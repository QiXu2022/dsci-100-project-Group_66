{
 "cells": [
  {
   "cell_type": "code",
   "execution_count": 2,
   "id": "9d0a6be9-ffb9-4833-b5ce-69c4f667c332",
   "metadata": {},
   "outputs": [
    {
     "name": "stderr",
     "output_type": "stream",
     "text": [
      "── \u001b[1mAttaching packages\u001b[22m ─────────────────────────────────────── tidyverse 1.3.1 ──\n",
      "\n",
      "\u001b[32m✔\u001b[39m \u001b[34mggplot2\u001b[39m 3.3.6     \u001b[32m✔\u001b[39m \u001b[34mpurrr  \u001b[39m 0.3.4\n",
      "\u001b[32m✔\u001b[39m \u001b[34mtibble \u001b[39m 3.1.7     \u001b[32m✔\u001b[39m \u001b[34mdplyr  \u001b[39m 1.0.9\n",
      "\u001b[32m✔\u001b[39m \u001b[34mtidyr  \u001b[39m 1.2.0     \u001b[32m✔\u001b[39m \u001b[34mstringr\u001b[39m 1.4.0\n",
      "\u001b[32m✔\u001b[39m \u001b[34mreadr  \u001b[39m 2.1.2     \u001b[32m✔\u001b[39m \u001b[34mforcats\u001b[39m 0.5.1\n",
      "\n",
      "── \u001b[1mConflicts\u001b[22m ────────────────────────────────────────── tidyverse_conflicts() ──\n",
      "\u001b[31m✖\u001b[39m \u001b[34mdplyr\u001b[39m::\u001b[32mfilter()\u001b[39m masks \u001b[34mstats\u001b[39m::filter()\n",
      "\u001b[31m✖\u001b[39m \u001b[34mdplyr\u001b[39m::\u001b[32mlag()\u001b[39m    masks \u001b[34mstats\u001b[39m::lag()\n",
      "\n",
      "── \u001b[1mAttaching packages\u001b[22m ────────────────────────────────────── tidymodels 1.0.0 ──\n",
      "\n",
      "\u001b[32m✔\u001b[39m \u001b[34mbroom       \u001b[39m 1.0.0     \u001b[32m✔\u001b[39m \u001b[34mrsample     \u001b[39m 1.0.0\n",
      "\u001b[32m✔\u001b[39m \u001b[34mdials       \u001b[39m 1.0.0     \u001b[32m✔\u001b[39m \u001b[34mtune        \u001b[39m 1.0.0\n",
      "\u001b[32m✔\u001b[39m \u001b[34minfer       \u001b[39m 1.0.2     \u001b[32m✔\u001b[39m \u001b[34mworkflows   \u001b[39m 1.0.0\n",
      "\u001b[32m✔\u001b[39m \u001b[34mmodeldata   \u001b[39m 1.0.0     \u001b[32m✔\u001b[39m \u001b[34mworkflowsets\u001b[39m 1.0.0\n",
      "\u001b[32m✔\u001b[39m \u001b[34mparsnip     \u001b[39m 1.0.0     \u001b[32m✔\u001b[39m \u001b[34myardstick   \u001b[39m 1.0.0\n",
      "\u001b[32m✔\u001b[39m \u001b[34mrecipes     \u001b[39m 1.0.1     \n",
      "\n",
      "── \u001b[1mConflicts\u001b[22m ───────────────────────────────────────── tidymodels_conflicts() ──\n",
      "\u001b[31m✖\u001b[39m \u001b[34mscales\u001b[39m::\u001b[32mdiscard()\u001b[39m masks \u001b[34mpurrr\u001b[39m::discard()\n",
      "\u001b[31m✖\u001b[39m \u001b[34mdplyr\u001b[39m::\u001b[32mfilter()\u001b[39m   masks \u001b[34mstats\u001b[39m::filter()\n",
      "\u001b[31m✖\u001b[39m \u001b[34mrecipes\u001b[39m::\u001b[32mfixed()\u001b[39m  masks \u001b[34mstringr\u001b[39m::fixed()\n",
      "\u001b[31m✖\u001b[39m \u001b[34mdplyr\u001b[39m::\u001b[32mlag()\u001b[39m      masks \u001b[34mstats\u001b[39m::lag()\n",
      "\u001b[31m✖\u001b[39m \u001b[34myardstick\u001b[39m::\u001b[32mspec()\u001b[39m masks \u001b[34mreadr\u001b[39m::spec()\n",
      "\u001b[31m✖\u001b[39m \u001b[34mrecipes\u001b[39m::\u001b[32mstep()\u001b[39m   masks \u001b[34mstats\u001b[39m::step()\n",
      "\u001b[34m•\u001b[39m Use \u001b[32mtidymodels_prefer()\u001b[39m to resolve common conflicts.\n",
      "\n"
     ]
    }
   ],
   "source": [
    "library(tidyverse)\n",
    "library(repr)\n",
    "library(tidymodels)\n",
    "options(repr.matrix.max.rows=6)"
   ]
  },
  {
   "cell_type": "code",
   "execution_count": 3,
   "id": "f398699e-942d-4895-aadb-666f61e98a0b",
   "metadata": {},
   "outputs": [
    {
     "name": "stderr",
     "output_type": "stream",
     "text": [
      "\u001b[1mRows: \u001b[22m\u001b[34m920\u001b[39m \u001b[1mColumns: \u001b[22m\u001b[34m16\u001b[39m\n",
      "\u001b[36m──\u001b[39m \u001b[1mColumn specification\u001b[22m \u001b[36m────────────────────────────────────────────────────────\u001b[39m\n",
      "\u001b[1mDelimiter:\u001b[22m \",\"\n",
      "\u001b[31mchr\u001b[39m (6): sex, dataset, cp, restecg, slope, thal\n",
      "\u001b[32mdbl\u001b[39m (8): id, age, trestbps, chol, thalch, oldpeak, ca, num\n",
      "\u001b[33mlgl\u001b[39m (2): fbs, exang\n",
      "\n",
      "\u001b[36mℹ\u001b[39m Use `spec()` to retrieve the full column specification for this data.\n",
      "\u001b[36mℹ\u001b[39m Specify the column types or set `show_col_types = FALSE` to quiet this message.\n"
     ]
    }
   ],
   "source": [
    "set.seed(209)\n",
    "#reading the dataset from the URL\n",
    "heart_disease_data <- read_csv(\"https://raw.githubusercontent.com/QiXu2022/dsci-100-project-Group_66/main/heart_disease_uci.csv\")\n",
    "heart_disease_data <- mutate(heart_disease_data, restecg = as_factor(restecg))"
   ]
  },
  {
   "cell_type": "code",
   "execution_count": 4,
   "id": "92424caa-b353-49e9-ab08-af041ac7a6cc",
   "metadata": {},
   "outputs": [
    {
     "data": {
      "text/html": [
       "<table class=\"dataframe\">\n",
       "<caption>A tibble: 304 × 4</caption>\n",
       "<thead>\n",
       "\t<tr><th scope=col>age</th><th scope=col>trestbps</th><th scope=col>chol</th><th scope=col>restecg</th></tr>\n",
       "\t<tr><th scope=col>&lt;dbl&gt;</th><th scope=col>&lt;dbl&gt;</th><th scope=col>&lt;dbl&gt;</th><th scope=col>&lt;fct&gt;</th></tr>\n",
       "</thead>\n",
       "<tbody>\n",
       "\t<tr><td>63</td><td>145</td><td>233</td><td>lv hypertrophy</td></tr>\n",
       "\t<tr><td>67</td><td>160</td><td>286</td><td>lv hypertrophy</td></tr>\n",
       "\t<tr><td>67</td><td>120</td><td>229</td><td>lv hypertrophy</td></tr>\n",
       "\t<tr><td>⋮</td><td>⋮</td><td>⋮</td><td>⋮</td></tr>\n",
       "\t<tr><td>57</td><td>130</td><td>236</td><td>lv hypertrophy</td></tr>\n",
       "\t<tr><td>38</td><td>138</td><td>175</td><td>normal        </td></tr>\n",
       "\t<tr><td>28</td><td>130</td><td>132</td><td>lv hypertrophy</td></tr>\n",
       "</tbody>\n",
       "</table>\n"
      ],
      "text/latex": [
       "A tibble: 304 × 4\n",
       "\\begin{tabular}{llll}\n",
       " age & trestbps & chol & restecg\\\\\n",
       " <dbl> & <dbl> & <dbl> & <fct>\\\\\n",
       "\\hline\n",
       "\t 63 & 145 & 233 & lv hypertrophy\\\\\n",
       "\t 67 & 160 & 286 & lv hypertrophy\\\\\n",
       "\t 67 & 120 & 229 & lv hypertrophy\\\\\n",
       "\t ⋮ & ⋮ & ⋮ & ⋮\\\\\n",
       "\t 57 & 130 & 236 & lv hypertrophy\\\\\n",
       "\t 38 & 138 & 175 & normal        \\\\\n",
       "\t 28 & 130 & 132 & lv hypertrophy\\\\\n",
       "\\end{tabular}\n"
      ],
      "text/markdown": [
       "\n",
       "A tibble: 304 × 4\n",
       "\n",
       "| age &lt;dbl&gt; | trestbps &lt;dbl&gt; | chol &lt;dbl&gt; | restecg &lt;fct&gt; |\n",
       "|---|---|---|---|\n",
       "| 63 | 145 | 233 | lv hypertrophy |\n",
       "| 67 | 160 | 286 | lv hypertrophy |\n",
       "| 67 | 120 | 229 | lv hypertrophy |\n",
       "| ⋮ | ⋮ | ⋮ | ⋮ |\n",
       "| 57 | 130 | 236 | lv hypertrophy |\n",
       "| 38 | 138 | 175 | normal         |\n",
       "| 28 | 130 | 132 | lv hypertrophy |\n",
       "\n"
      ],
      "text/plain": [
       "    age trestbps chol restecg       \n",
       "1   63  145      233  lv hypertrophy\n",
       "2   67  160      286  lv hypertrophy\n",
       "3   67  120      229  lv hypertrophy\n",
       "⋮   ⋮   ⋮        ⋮    ⋮             \n",
       "302 57  130      236  lv hypertrophy\n",
       "303 38  138      175  normal        \n",
       "304 28  130      132  lv hypertrophy"
      ]
     },
     "metadata": {},
     "output_type": "display_data"
    }
   ],
   "source": [
    "#tidying the data\n",
    "tidy_data<-heart_disease_data |>\n",
    "    filter(dataset==\"Cleveland\") |>\n",
    "    select(age, trestbps, chol, restecg) \n",
    "tidy_data"
   ]
  },
  {
   "cell_type": "code",
   "execution_count": 5,
   "id": "5bf39fe6-33f5-4020-bd2f-95f0ba7451b7",
   "metadata": {},
   "outputs": [],
   "source": [
    "heart_split<- initial_split(tidy_data, prop=0.75, strata=restecg)\n",
    "heart_train<- training(heart_split)\n",
    "heart_test<-testing(heart_split)"
   ]
  },
  {
   "cell_type": "markdown",
   "id": "b1bf02e2-17f9-45fd-8d20-e1048abb31e0",
   "metadata": {},
   "source": [
    "#### Firstly, we build model of using age, trestbps and chol to predict restecg by k-nn classification.\n"
   ]
  },
  {
   "cell_type": "code",
   "execution_count": 32,
   "id": "5dea6147-db82-44da-9aa3-f3522de439da",
   "metadata": {},
   "outputs": [
    {
     "name": "stderr",
     "output_type": "stream",
     "text": [
      "\u001b[33m!\u001b[39m \u001b[33mFold2: internal:\n",
      "  No observations were detected in `truth` for level(s): 'st-t abnormality'\n",
      "  Computation will proceed by ignoring those levels.\u001b[39m\n",
      "\n",
      "\u001b[33m!\u001b[39m \u001b[33mFold3: internal:\n",
      "  No observations were detected in `truth` for level(s): 'st-t abnormality'\n",
      "  Computation will proceed by ignoring those levels.\u001b[39m\n",
      "\n"
     ]
    },
    {
     "data": {
      "text/html": [
       "<table class=\"dataframe\">\n",
       "<caption>A tibble: 12 × 7</caption>\n",
       "<thead>\n",
       "\t<tr><th scope=col>neighbors</th><th scope=col>.metric</th><th scope=col>.estimator</th><th scope=col>mean</th><th scope=col>n</th><th scope=col>std_err</th><th scope=col>.config</th></tr>\n",
       "\t<tr><th scope=col>&lt;int&gt;</th><th scope=col>&lt;chr&gt;</th><th scope=col>&lt;chr&gt;</th><th scope=col>&lt;dbl&gt;</th><th scope=col>&lt;int&gt;</th><th scope=col>&lt;dbl&gt;</th><th scope=col>&lt;chr&gt;</th></tr>\n",
       "</thead>\n",
       "<tbody>\n",
       "\t<tr><td>2</td><td>accuracy</td><td>multiclass</td><td>0.5189152</td><td>5</td><td>0.05332505</td><td>Preprocessor1_Model01</td></tr>\n",
       "\t<tr><td>3</td><td>accuracy</td><td>multiclass</td><td>0.5592139</td><td>5</td><td>0.06299349</td><td>Preprocessor1_Model02</td></tr>\n",
       "\t<tr><td>5</td><td>accuracy</td><td>multiclass</td><td>0.5634739</td><td>5</td><td>0.04497834</td><td>Preprocessor1_Model03</td></tr>\n",
       "\t<tr><td>⋮</td><td>⋮</td><td>⋮</td><td>⋮</td><td>⋮</td><td>⋮</td><td>⋮</td></tr>\n",
       "\t<tr><td>12</td><td>accuracy</td><td>multiclass</td><td>0.5804743</td><td>5</td><td>0.04933744</td><td>Preprocessor1_Model10</td></tr>\n",
       "\t<tr><td>13</td><td>accuracy</td><td>multiclass</td><td>0.5937154</td><td>5</td><td>0.04329671</td><td>Preprocessor1_Model11</td></tr>\n",
       "\t<tr><td>14</td><td>accuracy</td><td>multiclass</td><td>0.6069565</td><td>5</td><td>0.03831518</td><td>Preprocessor1_Model12</td></tr>\n",
       "</tbody>\n",
       "</table>\n"
      ],
      "text/latex": [
       "A tibble: 12 × 7\n",
       "\\begin{tabular}{lllllll}\n",
       " neighbors & .metric & .estimator & mean & n & std\\_err & .config\\\\\n",
       " <int> & <chr> & <chr> & <dbl> & <int> & <dbl> & <chr>\\\\\n",
       "\\hline\n",
       "\t 2 & accuracy & multiclass & 0.5189152 & 5 & 0.05332505 & Preprocessor1\\_Model01\\\\\n",
       "\t 3 & accuracy & multiclass & 0.5592139 & 5 & 0.06299349 & Preprocessor1\\_Model02\\\\\n",
       "\t 5 & accuracy & multiclass & 0.5634739 & 5 & 0.04497834 & Preprocessor1\\_Model03\\\\\n",
       "\t ⋮ & ⋮ & ⋮ & ⋮ & ⋮ & ⋮ & ⋮\\\\\n",
       "\t 12 & accuracy & multiclass & 0.5804743 & 5 & 0.04933744 & Preprocessor1\\_Model10\\\\\n",
       "\t 13 & accuracy & multiclass & 0.5937154 & 5 & 0.04329671 & Preprocessor1\\_Model11\\\\\n",
       "\t 14 & accuracy & multiclass & 0.6069565 & 5 & 0.03831518 & Preprocessor1\\_Model12\\\\\n",
       "\\end{tabular}\n"
      ],
      "text/markdown": [
       "\n",
       "A tibble: 12 × 7\n",
       "\n",
       "| neighbors &lt;int&gt; | .metric &lt;chr&gt; | .estimator &lt;chr&gt; | mean &lt;dbl&gt; | n &lt;int&gt; | std_err &lt;dbl&gt; | .config &lt;chr&gt; |\n",
       "|---|---|---|---|---|---|---|\n",
       "| 2 | accuracy | multiclass | 0.5189152 | 5 | 0.05332505 | Preprocessor1_Model01 |\n",
       "| 3 | accuracy | multiclass | 0.5592139 | 5 | 0.06299349 | Preprocessor1_Model02 |\n",
       "| 5 | accuracy | multiclass | 0.5634739 | 5 | 0.04497834 | Preprocessor1_Model03 |\n",
       "| ⋮ | ⋮ | ⋮ | ⋮ | ⋮ | ⋮ | ⋮ |\n",
       "| 12 | accuracy | multiclass | 0.5804743 | 5 | 0.04933744 | Preprocessor1_Model10 |\n",
       "| 13 | accuracy | multiclass | 0.5937154 | 5 | 0.04329671 | Preprocessor1_Model11 |\n",
       "| 14 | accuracy | multiclass | 0.6069565 | 5 | 0.03831518 | Preprocessor1_Model12 |\n",
       "\n"
      ],
      "text/plain": [
       "   neighbors .metric  .estimator mean      n std_err    .config              \n",
       "1  2         accuracy multiclass 0.5189152 5 0.05332505 Preprocessor1_Model01\n",
       "2  3         accuracy multiclass 0.5592139 5 0.06299349 Preprocessor1_Model02\n",
       "3  5         accuracy multiclass 0.5634739 5 0.04497834 Preprocessor1_Model03\n",
       "⋮  ⋮         ⋮        ⋮          ⋮         ⋮ ⋮          ⋮                    \n",
       "10 12        accuracy multiclass 0.5804743 5 0.04933744 Preprocessor1_Model10\n",
       "11 13        accuracy multiclass 0.5937154 5 0.04329671 Preprocessor1_Model11\n",
       "12 14        accuracy multiclass 0.6069565 5 0.03831518 Preprocessor1_Model12"
      ]
     },
     "metadata": {},
     "output_type": "display_data"
    },
    {
     "data": {
      "image/png": "[encoded data removed]",
      "text/plain": [
       "plot without title"
      ]
     },
     "metadata": {
      "image/png": {
       "height": 420,
       "width": 420
      }
     },
     "output_type": "display_data"
    }
   ],
   "source": [
    "set.seed(2020)\n",
    "## 5-fold cross validation\n",
    "heart_recipe = recipe(restecg ~ ., data = heart_train) |>\n",
    "                step_center(all_predictors()) |>\n",
    "                step_scale(all_predictors())\n",
    "heart_spec = nearest_neighbor(weight_func = \"rectangular\", neighbors = tune()) |>\n",
    "    set_engine(\"kknn\") |>\n",
    "    set_mode(\"classification\")\n",
    "heart_vf <- vfold_cv(heart_train, v = 5, strata = restecg)\n",
    "\n",
    "heart_results = workflow() |>\n",
    "    add_recipe(heart_recipe) |>\n",
    "    add_model(heart_spec)|>\n",
    "    tune_grid(resamples = heart_vf, grid = 15) |>\n",
    "    collect_metrics()\n",
    "\n",
    "heart_accuracies <- heart_results |> \n",
    "       filter(.metric == \"accuracy\", .estimator == \"multiclass\")\n",
    "\n",
    "heart_accuracies\n",
    "\n",
    "heart_accuracy_plot <- ggplot(heart_accuracies, aes(x = neighbors, y = mean))+\n",
    "       geom_point() +\n",
    "       geom_line() +\n",
    "       labs(x = \"Neighbors\", y = \"Accuracy Estimate\") +\n",
    "       scale_x_continuous(breaks = seq(1, 16, by = 1)) +  # adjusting the x-axis\n",
    "       scale_y_continuous(limits = c(0.4, 1)) # adjusting the y-axis\n",
    "\n",
    "heart_accuracy_plot"
   ]
  },
  {
   "cell_type": "markdown",
   "id": "c80f5a47-58cd-40ac-bbab-39de407ec578",
   "metadata": {},
   "source": [
    "According to the plot above, we choose k = 14."
   ]
  },
  {
   "cell_type": "code",
   "execution_count": 10,
   "id": "3201b4a4-60ae-483e-a271-179ddf554931",
   "metadata": {},
   "outputs": [
    {
     "data": {
      "text/html": [
       "<table class=\"dataframe\">\n",
       "<caption>A tibble: 77 × 5</caption>\n",
       "<thead>\n",
       "\t<tr><th scope=col>.pred_class</th><th scope=col>age</th><th scope=col>trestbps</th><th scope=col>chol</th><th scope=col>restecg</th></tr>\n",
       "\t<tr><th scope=col>&lt;fct&gt;</th><th scope=col>&lt;dbl&gt;</th><th scope=col>&lt;dbl&gt;</th><th scope=col>&lt;dbl&gt;</th><th scope=col>&lt;fct&gt;</th></tr>\n",
       "</thead>\n",
       "<tbody>\n",
       "\t<tr><td>lv hypertrophy</td><td>37</td><td>130</td><td>250</td><td>normal        </td></tr>\n",
       "\t<tr><td>normal        </td><td>56</td><td>120</td><td>236</td><td>normal        </td></tr>\n",
       "\t<tr><td>normal        </td><td>53</td><td>140</td><td>203</td><td>lv hypertrophy</td></tr>\n",
       "\t<tr><td>⋮</td><td>⋮</td><td>⋮</td><td>⋮</td><td>⋮</td></tr>\n",
       "\t<tr><td>lv hypertrophy</td><td>45</td><td>110</td><td>264</td><td>normal        </td></tr>\n",
       "\t<tr><td>lv hypertrophy</td><td>57</td><td>130</td><td>131</td><td>normal        </td></tr>\n",
       "\t<tr><td>normal        </td><td>28</td><td>130</td><td>132</td><td>lv hypertrophy</td></tr>\n",
       "</tbody>\n",
       "</table>\n"
      ],
      "text/latex": [
       "A tibble: 77 × 5\n",
       "\\begin{tabular}{lllll}\n",
       " .pred\\_class & age & trestbps & chol & restecg\\\\\n",
       " <fct> & <dbl> & <dbl> & <dbl> & <fct>\\\\\n",
       "\\hline\n",
       "\t lv hypertrophy & 37 & 130 & 250 & normal        \\\\\n",
       "\t normal         & 56 & 120 & 236 & normal        \\\\\n",
       "\t normal         & 53 & 140 & 203 & lv hypertrophy\\\\\n",
       "\t ⋮ & ⋮ & ⋮ & ⋮ & ⋮\\\\\n",
       "\t lv hypertrophy & 45 & 110 & 264 & normal        \\\\\n",
       "\t lv hypertrophy & 57 & 130 & 131 & normal        \\\\\n",
       "\t normal         & 28 & 130 & 132 & lv hypertrophy\\\\\n",
       "\\end{tabular}\n"
      ],
      "text/markdown": [
       "\n",
       "A tibble: 77 × 5\n",
       "\n",
       "| .pred_class &lt;fct&gt; | age &lt;dbl&gt; | trestbps &lt;dbl&gt; | chol &lt;dbl&gt; | restecg &lt;fct&gt; |\n",
       "|---|---|---|---|---|\n",
       "| lv hypertrophy | 37 | 130 | 250 | normal         |\n",
       "| normal         | 56 | 120 | 236 | normal         |\n",
       "| normal         | 53 | 140 | 203 | lv hypertrophy |\n",
       "| ⋮ | ⋮ | ⋮ | ⋮ | ⋮ |\n",
       "| lv hypertrophy | 45 | 110 | 264 | normal         |\n",
       "| lv hypertrophy | 57 | 130 | 131 | normal         |\n",
       "| normal         | 28 | 130 | 132 | lv hypertrophy |\n",
       "\n"
      ],
      "text/plain": [
       "   .pred_class    age trestbps chol restecg       \n",
       "1  lv hypertrophy 37  130      250  normal        \n",
       "2  normal         56  120      236  normal        \n",
       "3  normal         53  140      203  lv hypertrophy\n",
       "⋮  ⋮              ⋮   ⋮        ⋮    ⋮             \n",
       "75 lv hypertrophy 45  110      264  normal        \n",
       "76 lv hypertrophy 57  130      131  normal        \n",
       "77 normal         28  130      132  lv hypertrophy"
      ]
     },
     "metadata": {},
     "output_type": "display_data"
    },
    {
     "data": {
      "text/html": [
       "<table class=\"dataframe\">\n",
       "<caption>A tibble: 2 × 3</caption>\n",
       "<thead>\n",
       "\t<tr><th scope=col>.metric</th><th scope=col>.estimator</th><th scope=col>.estimate</th></tr>\n",
       "\t<tr><th scope=col>&lt;chr&gt;</th><th scope=col>&lt;chr&gt;</th><th scope=col>&lt;dbl&gt;</th></tr>\n",
       "</thead>\n",
       "<tbody>\n",
       "\t<tr><td>accuracy</td><td>multiclass</td><td> 0.4285714</td></tr>\n",
       "\t<tr><td>kap     </td><td>multiclass</td><td>-0.1285809</td></tr>\n",
       "</tbody>\n",
       "</table>\n"
      ],
      "text/latex": [
       "A tibble: 2 × 3\n",
       "\\begin{tabular}{lll}\n",
       " .metric & .estimator & .estimate\\\\\n",
       " <chr> & <chr> & <dbl>\\\\\n",
       "\\hline\n",
       "\t accuracy & multiclass &  0.4285714\\\\\n",
       "\t kap      & multiclass & -0.1285809\\\\\n",
       "\\end{tabular}\n"
      ],
      "text/markdown": [
       "\n",
       "A tibble: 2 × 3\n",
       "\n",
       "| .metric &lt;chr&gt; | .estimator &lt;chr&gt; | .estimate &lt;dbl&gt; |\n",
       "|---|---|---|\n",
       "| accuracy | multiclass |  0.4285714 |\n",
       "| kap      | multiclass | -0.1285809 |\n",
       "\n"
      ],
      "text/plain": [
       "  .metric  .estimator .estimate \n",
       "1 accuracy multiclass  0.4285714\n",
       "2 kap      multiclass -0.1285809"
      ]
     },
     "metadata": {},
     "output_type": "display_data"
    },
    {
     "data": {
      "text/plain": [
       "                  Truth\n",
       "Prediction         lv hypertrophy normal st-t abnormality\n",
       "  lv hypertrophy               16     22                0\n",
       "  normal                       21     17                1\n",
       "  st-t abnormality              0      0                0"
      ]
     },
     "metadata": {},
     "output_type": "display_data"
    }
   ],
   "source": [
    "heart_retrain_spec = nearest_neighbor(weight_func = \"rectangular\", neighbors = 14) |>\n",
    "    set_engine(\"kknn\") |>\n",
    "    set_mode(\"classification\")\n",
    "\n",
    "heart_fit = workflow() |>\n",
    "       add_recipe(heart_recipe) |>\n",
    "       add_model(heart_retrain_spec) |>\n",
    "       fit(data = heart_train)\n",
    "\n",
    "heart_predictions <- predict(heart_fit , heart_test) |>\n",
    "                    bind_cols(heart_test)\n",
    "heart_predictions\n",
    "\n",
    "heart_metrics <- heart_predictions |>\n",
    "         metrics(truth = restecg, estimate = .pred_class)\n",
    "heart_metrics\n",
    "\n",
    "heart_conf_mat <- heart_predictions |> \n",
    "       conf_mat(truth = restecg, estimate = .pred_class)\n",
    "heart_conf_mat\n",
    "\n",
    "\n",
    "\n"
   ]
  },
  {
   "cell_type": "markdown",
   "id": "08c638da-35aa-448f-afd8-1580eec7847c",
   "metadata": {},
   "source": [
    "#### let's do the second model using age, trestbps to predict restecg by k-nn classification."
   ]
  },
  {
   "cell_type": "code",
   "execution_count": 33,
   "id": "8fef3dc3-8433-4d47-abe8-8e7ad9fa1a43",
   "metadata": {},
   "outputs": [
    {
     "name": "stderr",
     "output_type": "stream",
     "text": [
      "\u001b[33m!\u001b[39m \u001b[33mFold2: internal:\n",
      "  No observations were detected in `truth` for level(s): 'st-t abnormality'\n",
      "  Computation will proceed by ignoring those levels.\u001b[39m\n",
      "\n",
      "\u001b[33m!\u001b[39m \u001b[33mFold3: internal:\n",
      "  No observations were detected in `truth` for level(s): 'st-t abnormality'\n",
      "  Computation will proceed by ignoring those levels.\u001b[39m\n",
      "\n"
     ]
    },
    {
     "data": {
      "text/html": [
       "<table class=\"dataframe\">\n",
       "<caption>A tibble: 12 × 7</caption>\n",
       "<thead>\n",
       "\t<tr><th scope=col>neighbors</th><th scope=col>.metric</th><th scope=col>.estimator</th><th scope=col>mean</th><th scope=col>n</th><th scope=col>std_err</th><th scope=col>.config</th></tr>\n",
       "\t<tr><th scope=col>&lt;int&gt;</th><th scope=col>&lt;chr&gt;</th><th scope=col>&lt;chr&gt;</th><th scope=col>&lt;dbl&gt;</th><th scope=col>&lt;int&gt;</th><th scope=col>&lt;dbl&gt;</th><th scope=col>&lt;chr&gt;</th></tr>\n",
       "</thead>\n",
       "<tbody>\n",
       "\t<tr><td>2</td><td>accuracy</td><td>multiclass</td><td>0.4802855</td><td>5</td><td>0.03196545</td><td>Preprocessor1_Model01</td></tr>\n",
       "\t<tr><td>3</td><td>accuracy</td><td>multiclass</td><td>0.4844357</td><td>5</td><td>0.04239692</td><td>Preprocessor1_Model02</td></tr>\n",
       "\t<tr><td>5</td><td>accuracy</td><td>multiclass</td><td>0.5326570</td><td>5</td><td>0.05279921</td><td>Preprocessor1_Model03</td></tr>\n",
       "\t<tr><td>⋮</td><td>⋮</td><td>⋮</td><td>⋮</td><td>⋮</td><td>⋮</td><td>⋮</td></tr>\n",
       "\t<tr><td>12</td><td>accuracy</td><td>multiclass</td><td>0.5282082</td><td>5</td><td>0.05347684</td><td>Preprocessor1_Model10</td></tr>\n",
       "\t<tr><td>13</td><td>accuracy</td><td>multiclass</td><td>0.5367984</td><td>5</td><td>0.04804056</td><td>Preprocessor1_Model11</td></tr>\n",
       "\t<tr><td>14</td><td>accuracy</td><td>multiclass</td><td>0.5413439</td><td>5</td><td>0.04467043</td><td>Preprocessor1_Model12</td></tr>\n",
       "</tbody>\n",
       "</table>\n"
      ],
      "text/latex": [
       "A tibble: 12 × 7\n",
       "\\begin{tabular}{lllllll}\n",
       " neighbors & .metric & .estimator & mean & n & std\\_err & .config\\\\\n",
       " <int> & <chr> & <chr> & <dbl> & <int> & <dbl> & <chr>\\\\\n",
       "\\hline\n",
       "\t 2 & accuracy & multiclass & 0.4802855 & 5 & 0.03196545 & Preprocessor1\\_Model01\\\\\n",
       "\t 3 & accuracy & multiclass & 0.4844357 & 5 & 0.04239692 & Preprocessor1\\_Model02\\\\\n",
       "\t 5 & accuracy & multiclass & 0.5326570 & 5 & 0.05279921 & Preprocessor1\\_Model03\\\\\n",
       "\t ⋮ & ⋮ & ⋮ & ⋮ & ⋮ & ⋮ & ⋮\\\\\n",
       "\t 12 & accuracy & multiclass & 0.5282082 & 5 & 0.05347684 & Preprocessor1\\_Model10\\\\\n",
       "\t 13 & accuracy & multiclass & 0.5367984 & 5 & 0.04804056 & Preprocessor1\\_Model11\\\\\n",
       "\t 14 & accuracy & multiclass & 0.5413439 & 5 & 0.04467043 & Preprocessor1\\_Model12\\\\\n",
       "\\end{tabular}\n"
      ],
      "text/markdown": [
       "\n",
       "A tibble: 12 × 7\n",
       "\n",
       "| neighbors &lt;int&gt; | .metric &lt;chr&gt; | .estimator &lt;chr&gt; | mean &lt;dbl&gt; | n &lt;int&gt; | std_err &lt;dbl&gt; | .config &lt;chr&gt; |\n",
       "|---|---|---|---|---|---|---|\n",
       "| 2 | accuracy | multiclass | 0.4802855 | 5 | 0.03196545 | Preprocessor1_Model01 |\n",
       "| 3 | accuracy | multiclass | 0.4844357 | 5 | 0.04239692 | Preprocessor1_Model02 |\n",
       "| 5 | accuracy | multiclass | 0.5326570 | 5 | 0.05279921 | Preprocessor1_Model03 |\n",
       "| ⋮ | ⋮ | ⋮ | ⋮ | ⋮ | ⋮ | ⋮ |\n",
       "| 12 | accuracy | multiclass | 0.5282082 | 5 | 0.05347684 | Preprocessor1_Model10 |\n",
       "| 13 | accuracy | multiclass | 0.5367984 | 5 | 0.04804056 | Preprocessor1_Model11 |\n",
       "| 14 | accuracy | multiclass | 0.5413439 | 5 | 0.04467043 | Preprocessor1_Model12 |\n",
       "\n"
      ],
      "text/plain": [
       "   neighbors .metric  .estimator mean      n std_err    .config              \n",
       "1  2         accuracy multiclass 0.4802855 5 0.03196545 Preprocessor1_Model01\n",
       "2  3         accuracy multiclass 0.4844357 5 0.04239692 Preprocessor1_Model02\n",
       "3  5         accuracy multiclass 0.5326570 5 0.05279921 Preprocessor1_Model03\n",
       "⋮  ⋮         ⋮        ⋮          ⋮         ⋮ ⋮          ⋮                    \n",
       "10 12        accuracy multiclass 0.5282082 5 0.05347684 Preprocessor1_Model10\n",
       "11 13        accuracy multiclass 0.5367984 5 0.04804056 Preprocessor1_Model11\n",
       "12 14        accuracy multiclass 0.5413439 5 0.04467043 Preprocessor1_Model12"
      ]
     },
     "metadata": {},
     "output_type": "display_data"
    },
    {
     "data": {
      "image/png": "[encoded data removed]",
      "text/plain": [
       "plot without title"
      ]
     },
     "metadata": {
      "image/png": {
       "height": 420,
       "width": 420
      }
     },
     "output_type": "display_data"
    }
   ],
   "source": [
    "set.seed(2020)\n",
    "## 5-fold cross validation\n",
    "heart_recipe = recipe(restecg ~ age + trestbps, data = heart_train) |>\n",
    "                step_center(all_predictors()) |>\n",
    "                step_scale(all_predictors())\n",
    "heart_spec = nearest_neighbor(weight_func = \"rectangular\", neighbors = tune()) |>\n",
    "    set_engine(\"kknn\") |>\n",
    "    set_mode(\"classification\")\n",
    "heart_vf <- vfold_cv(heart_train, v = 5, strata = restecg)\n",
    "\n",
    "heart_results = workflow() |>\n",
    "    add_recipe(heart_recipe) |>\n",
    "    add_model(heart_spec)|>\n",
    "    tune_grid(resamples = heart_vf, grid = 15) |>\n",
    "    collect_metrics()\n",
    "\n",
    "heart_accuracies <- heart_results |> \n",
    "       filter(.metric == \"accuracy\", .estimator == \"multiclass\")\n",
    "\n",
    "heart_accuracies\n",
    "\n",
    "heart_accuracy_plot <- ggplot(heart_accuracies, aes(x = neighbors, y = mean))+\n",
    "       geom_point() +\n",
    "       geom_line() +\n",
    "       labs(x = \"Neighbors\", y = \"Accuracy Estimate\") +\n",
    "       scale_x_continuous(breaks = seq(1, 16, by = 1)) +  # adjusting the x-axis\n",
    "       scale_y_continuous(limits = c(0.4, 1)) # adjusting the y-axis\n",
    "\n",
    "heart_accuracy_plot"
   ]
  },
  {
   "cell_type": "markdown",
   "id": "a46ac967-a56a-46c1-bfbe-3b6330cf347e",
   "metadata": {},
   "source": [
    "According to the plot above, we choose k = 9"
   ]
  },
  {
   "cell_type": "code",
   "execution_count": 22,
   "id": "3221468f-5579-44ef-91ee-794d39342bd2",
   "metadata": {},
   "outputs": [
    {
     "data": {
      "text/html": [
       "<table class=\"dataframe\">\n",
       "<caption>A tibble: 77 × 5</caption>\n",
       "<thead>\n",
       "\t<tr><th scope=col>.pred_class</th><th scope=col>age</th><th scope=col>trestbps</th><th scope=col>chol</th><th scope=col>restecg</th></tr>\n",
       "\t<tr><th scope=col>&lt;fct&gt;</th><th scope=col>&lt;dbl&gt;</th><th scope=col>&lt;dbl&gt;</th><th scope=col>&lt;dbl&gt;</th><th scope=col>&lt;fct&gt;</th></tr>\n",
       "</thead>\n",
       "<tbody>\n",
       "\t<tr><td>normal        </td><td>37</td><td>130</td><td>250</td><td>normal        </td></tr>\n",
       "\t<tr><td>normal        </td><td>56</td><td>120</td><td>236</td><td>normal        </td></tr>\n",
       "\t<tr><td>lv hypertrophy</td><td>53</td><td>140</td><td>203</td><td>lv hypertrophy</td></tr>\n",
       "\t<tr><td>⋮</td><td>⋮</td><td>⋮</td><td>⋮</td><td>⋮</td></tr>\n",
       "\t<tr><td>normal        </td><td>45</td><td>110</td><td>264</td><td>normal        </td></tr>\n",
       "\t<tr><td>lv hypertrophy</td><td>57</td><td>130</td><td>131</td><td>normal        </td></tr>\n",
       "\t<tr><td>normal        </td><td>28</td><td>130</td><td>132</td><td>lv hypertrophy</td></tr>\n",
       "</tbody>\n",
       "</table>\n"
      ],
      "text/latex": [
       "A tibble: 77 × 5\n",
       "\\begin{tabular}{lllll}\n",
       " .pred\\_class & age & trestbps & chol & restecg\\\\\n",
       " <fct> & <dbl> & <dbl> & <dbl> & <fct>\\\\\n",
       "\\hline\n",
       "\t normal         & 37 & 130 & 250 & normal        \\\\\n",
       "\t normal         & 56 & 120 & 236 & normal        \\\\\n",
       "\t lv hypertrophy & 53 & 140 & 203 & lv hypertrophy\\\\\n",
       "\t ⋮ & ⋮ & ⋮ & ⋮ & ⋮\\\\\n",
       "\t normal         & 45 & 110 & 264 & normal        \\\\\n",
       "\t lv hypertrophy & 57 & 130 & 131 & normal        \\\\\n",
       "\t normal         & 28 & 130 & 132 & lv hypertrophy\\\\\n",
       "\\end{tabular}\n"
      ],
      "text/markdown": [
       "\n",
       "A tibble: 77 × 5\n",
       "\n",
       "| .pred_class &lt;fct&gt; | age &lt;dbl&gt; | trestbps &lt;dbl&gt; | chol &lt;dbl&gt; | restecg &lt;fct&gt; |\n",
       "|---|---|---|---|---|\n",
       "| normal         | 37 | 130 | 250 | normal         |\n",
       "| normal         | 56 | 120 | 236 | normal         |\n",
       "| lv hypertrophy | 53 | 140 | 203 | lv hypertrophy |\n",
       "| ⋮ | ⋮ | ⋮ | ⋮ | ⋮ |\n",
       "| normal         | 45 | 110 | 264 | normal         |\n",
       "| lv hypertrophy | 57 | 130 | 131 | normal         |\n",
       "| normal         | 28 | 130 | 132 | lv hypertrophy |\n",
       "\n"
      ],
      "text/plain": [
       "   .pred_class    age trestbps chol restecg       \n",
       "1  normal         37  130      250  normal        \n",
       "2  normal         56  120      236  normal        \n",
       "3  lv hypertrophy 53  140      203  lv hypertrophy\n",
       "⋮  ⋮              ⋮   ⋮        ⋮    ⋮             \n",
       "75 normal         45  110      264  normal        \n",
       "76 lv hypertrophy 57  130      131  normal        \n",
       "77 normal         28  130      132  lv hypertrophy"
      ]
     },
     "metadata": {},
     "output_type": "display_data"
    },
    {
     "data": {
      "text/html": [
       "<table class=\"dataframe\">\n",
       "<caption>A tibble: 2 × 3</caption>\n",
       "<thead>\n",
       "\t<tr><th scope=col>.metric</th><th scope=col>.estimator</th><th scope=col>.estimate</th></tr>\n",
       "\t<tr><th scope=col>&lt;chr&gt;</th><th scope=col>&lt;chr&gt;</th><th scope=col>&lt;dbl&gt;</th></tr>\n",
       "</thead>\n",
       "<tbody>\n",
       "\t<tr><td>accuracy</td><td>multiclass</td><td>0.5584416</td></tr>\n",
       "\t<tr><td>kap     </td><td>multiclass</td><td>0.1308101</td></tr>\n",
       "</tbody>\n",
       "</table>\n"
      ],
      "text/latex": [
       "A tibble: 2 × 3\n",
       "\\begin{tabular}{lll}\n",
       " .metric & .estimator & .estimate\\\\\n",
       " <chr> & <chr> & <dbl>\\\\\n",
       "\\hline\n",
       "\t accuracy & multiclass & 0.5584416\\\\\n",
       "\t kap      & multiclass & 0.1308101\\\\\n",
       "\\end{tabular}\n"
      ],
      "text/markdown": [
       "\n",
       "A tibble: 2 × 3\n",
       "\n",
       "| .metric &lt;chr&gt; | .estimator &lt;chr&gt; | .estimate &lt;dbl&gt; |\n",
       "|---|---|---|\n",
       "| accuracy | multiclass | 0.5584416 |\n",
       "| kap      | multiclass | 0.1308101 |\n",
       "\n"
      ],
      "text/plain": [
       "  .metric  .estimator .estimate\n",
       "1 accuracy multiclass 0.5584416\n",
       "2 kap      multiclass 0.1308101"
      ]
     },
     "metadata": {},
     "output_type": "display_data"
    },
    {
     "data": {
      "text/plain": [
       "                  Truth\n",
       "Prediction         lv hypertrophy normal st-t abnormality\n",
       "  lv hypertrophy               23     19                1\n",
       "  normal                       14     20                0\n",
       "  st-t abnormality              0      0                0"
      ]
     },
     "metadata": {},
     "output_type": "display_data"
    }
   ],
   "source": [
    "heart_retrain_spec = nearest_neighbor(weight_func = \"rectangular\", neighbors = 9) |>\n",
    "    set_engine(\"kknn\") |>\n",
    "    set_mode(\"classification\")\n",
    "\n",
    "heart_fit = workflow() |>\n",
    "       add_recipe(heart_recipe) |>\n",
    "       add_model(heart_retrain_spec) |>\n",
    "       fit(data = heart_train)\n",
    "\n",
    "heart_predictions <- predict(heart_fit , heart_test) |>\n",
    "                    bind_cols(heart_test)\n",
    "heart_predictions\n",
    "\n",
    "heart_metrics <- heart_predictions |>\n",
    "         metrics(truth = restecg, estimate = .pred_class)\n",
    "heart_metrics\n",
    "\n",
    "heart_conf_mat <- heart_predictions |> \n",
    "       conf_mat(truth = restecg, estimate = .pred_class)\n",
    "heart_conf_mat\n"
   ]
  },
  {
   "cell_type": "code",
   "execution_count": null,
   "id": "1597cff8-bb3a-413a-9869-09b8f1e3eb03",
   "metadata": {},
   "outputs": [],
   "source": []
  },
  {
   "cell_type": "code",
   "execution_count": null,
   "id": "37bcd306-a58b-49e5-a1d8-369118a52cdc",
   "metadata": {},
   "outputs": [],
   "source": []
  },
  {
   "cell_type": "markdown",
   "id": "0670540f-0675-470a-9653-3adfda99b14a",
   "metadata": {},
   "source": [
    "#### let's do the third model using age, chol to predict restecg by k-nn classification."
   ]
  },
  {
   "cell_type": "code",
   "execution_count": 34,
   "id": "e5f063a1-6392-4928-9976-416b911b9da8",
   "metadata": {},
   "outputs": [
    {
     "name": "stderr",
     "output_type": "stream",
     "text": [
      "\u001b[33m!\u001b[39m \u001b[33mFold2: internal:\n",
      "  No observations were detected in `truth` for level(s): 'st-t abnormality'\n",
      "  Computation will proceed by ignoring those levels.\u001b[39m\n",
      "\n",
      "\u001b[33m!\u001b[39m \u001b[33mFold3: internal:\n",
      "  No observations were detected in `truth` for level(s): 'st-t abnormality'\n",
      "  Computation will proceed by ignoring those levels.\u001b[39m\n",
      "\n"
     ]
    },
    {
     "data": {
      "text/html": [
       "<table class=\"dataframe\">\n",
       "<caption>A tibble: 12 × 7</caption>\n",
       "<thead>\n",
       "\t<tr><th scope=col>neighbors</th><th scope=col>.metric</th><th scope=col>.estimator</th><th scope=col>mean</th><th scope=col>n</th><th scope=col>std_err</th><th scope=col>.config</th></tr>\n",
       "\t<tr><th scope=col>&lt;int&gt;</th><th scope=col>&lt;chr&gt;</th><th scope=col>&lt;chr&gt;</th><th scope=col>&lt;dbl&gt;</th><th scope=col>&lt;int&gt;</th><th scope=col>&lt;dbl&gt;</th><th scope=col>&lt;chr&gt;</th></tr>\n",
       "</thead>\n",
       "<tbody>\n",
       "\t<tr><td>2</td><td>accuracy</td><td>multiclass</td><td>0.5859157</td><td>5</td><td>0.02205166</td><td>Preprocessor1_Model01</td></tr>\n",
       "\t<tr><td>3</td><td>accuracy</td><td>multiclass</td><td>0.5851164</td><td>5</td><td>0.03404531</td><td>Preprocessor1_Model02</td></tr>\n",
       "\t<tr><td>5</td><td>accuracy</td><td>multiclass</td><td>0.6112121</td><td>5</td><td>0.04601030</td><td>Preprocessor1_Model03</td></tr>\n",
       "\t<tr><td>⋮</td><td>⋮</td><td>⋮</td><td>⋮</td><td>⋮</td><td>⋮</td><td>⋮</td></tr>\n",
       "\t<tr><td>12</td><td>accuracy</td><td>multiclass</td><td>0.6070575</td><td>5</td><td>0.03173941</td><td>Preprocessor1_Model10</td></tr>\n",
       "\t<tr><td>13</td><td>accuracy</td><td>multiclass</td><td>0.5846245</td><td>5</td><td>0.04271895</td><td>Preprocessor1_Model11</td></tr>\n",
       "\t<tr><td>14</td><td>accuracy</td><td>multiclass</td><td>0.5846245</td><td>5</td><td>0.04271895</td><td>Preprocessor1_Model12</td></tr>\n",
       "</tbody>\n",
       "</table>\n"
      ],
      "text/latex": [
       "A tibble: 12 × 7\n",
       "\\begin{tabular}{lllllll}\n",
       " neighbors & .metric & .estimator & mean & n & std\\_err & .config\\\\\n",
       " <int> & <chr> & <chr> & <dbl> & <int> & <dbl> & <chr>\\\\\n",
       "\\hline\n",
       "\t 2 & accuracy & multiclass & 0.5859157 & 5 & 0.02205166 & Preprocessor1\\_Model01\\\\\n",
       "\t 3 & accuracy & multiclass & 0.5851164 & 5 & 0.03404531 & Preprocessor1\\_Model02\\\\\n",
       "\t 5 & accuracy & multiclass & 0.6112121 & 5 & 0.04601030 & Preprocessor1\\_Model03\\\\\n",
       "\t ⋮ & ⋮ & ⋮ & ⋮ & ⋮ & ⋮ & ⋮\\\\\n",
       "\t 12 & accuracy & multiclass & 0.6070575 & 5 & 0.03173941 & Preprocessor1\\_Model10\\\\\n",
       "\t 13 & accuracy & multiclass & 0.5846245 & 5 & 0.04271895 & Preprocessor1\\_Model11\\\\\n",
       "\t 14 & accuracy & multiclass & 0.5846245 & 5 & 0.04271895 & Preprocessor1\\_Model12\\\\\n",
       "\\end{tabular}\n"
      ],
      "text/markdown": [
       "\n",
       "A tibble: 12 × 7\n",
       "\n",
       "| neighbors &lt;int&gt; | .metric &lt;chr&gt; | .estimator &lt;chr&gt; | mean &lt;dbl&gt; | n &lt;int&gt; | std_err &lt;dbl&gt; | .config &lt;chr&gt; |\n",
       "|---|---|---|---|---|---|---|\n",
       "| 2 | accuracy | multiclass | 0.5859157 | 5 | 0.02205166 | Preprocessor1_Model01 |\n",
       "| 3 | accuracy | multiclass | 0.5851164 | 5 | 0.03404531 | Preprocessor1_Model02 |\n",
       "| 5 | accuracy | multiclass | 0.6112121 | 5 | 0.04601030 | Preprocessor1_Model03 |\n",
       "| ⋮ | ⋮ | ⋮ | ⋮ | ⋮ | ⋮ | ⋮ |\n",
       "| 12 | accuracy | multiclass | 0.6070575 | 5 | 0.03173941 | Preprocessor1_Model10 |\n",
       "| 13 | accuracy | multiclass | 0.5846245 | 5 | 0.04271895 | Preprocessor1_Model11 |\n",
       "| 14 | accuracy | multiclass | 0.5846245 | 5 | 0.04271895 | Preprocessor1_Model12 |\n",
       "\n"
      ],
      "text/plain": [
       "   neighbors .metric  .estimator mean      n std_err    .config              \n",
       "1  2         accuracy multiclass 0.5859157 5 0.02205166 Preprocessor1_Model01\n",
       "2  3         accuracy multiclass 0.5851164 5 0.03404531 Preprocessor1_Model02\n",
       "3  5         accuracy multiclass 0.6112121 5 0.04601030 Preprocessor1_Model03\n",
       "⋮  ⋮         ⋮        ⋮          ⋮         ⋮ ⋮          ⋮                    \n",
       "10 12        accuracy multiclass 0.6070575 5 0.03173941 Preprocessor1_Model10\n",
       "11 13        accuracy multiclass 0.5846245 5 0.04271895 Preprocessor1_Model11\n",
       "12 14        accuracy multiclass 0.5846245 5 0.04271895 Preprocessor1_Model12"
      ]
     },
     "metadata": {},
     "output_type": "display_data"
    },
    {
     "data": {
      "image/png": "[encoded data removed]",
      "text/plain": [
       "plot without title"
      ]
     },
     "metadata": {
      "image/png": {
       "height": 420,
       "width": 420
      }
     },
     "output_type": "display_data"
    }
   ],
   "source": [
    "set.seed(2020)\n",
    "## 5-fold cross validation\n",
    "heart_recipe = recipe(restecg ~ age + chol, data = heart_train) |>\n",
    "                step_center(all_predictors()) |>\n",
    "                step_scale(all_predictors())\n",
    "\n",
    "heart_spec = nearest_neighbor(weight_func = \"rectangular\", neighbors = tune()) |>\n",
    "    set_engine(\"kknn\") |>\n",
    "    set_mode(\"classification\")\n",
    "heart_vf <- vfold_cv(heart_train, v = 5, strata = restecg)\n",
    "\n",
    "heart_results = workflow() |>\n",
    "    add_recipe(heart_recipe) |>\n",
    "    add_model(heart_spec)|>\n",
    "    tune_grid(resamples = heart_vf, grid = 15) |>\n",
    "    collect_metrics()\n",
    "\n",
    "heart_accuracies <- heart_results |> \n",
    "       filter(.metric == \"accuracy\", .estimator == \"multiclass\")\n",
    "\n",
    "heart_accuracies\n",
    "\n",
    "heart_accuracy_plot <- ggplot(heart_accuracies, aes(x = neighbors, y = mean))+\n",
    "       geom_point() +\n",
    "       geom_line() +\n",
    "       labs(x = \"Neighbors\", y = \"Accuracy Estimate\") +\n",
    "       scale_x_continuous(breaks = seq(1, 16, by = 1)) +  # adjusting the x-axis\n",
    "       scale_y_continuous(limits = c(0.4, 1)) # adjusting the y-axis\n",
    "\n",
    "heart_accuracy_plot"
   ]
  },
  {
   "cell_type": "markdown",
   "id": "2f4faed0-2596-4e08-956e-d23f91bfb111",
   "metadata": {},
   "source": [
    "According to the plot above, we choose k = 5."
   ]
  },
  {
   "cell_type": "code",
   "execution_count": 24,
   "id": "b8fab577-316e-4406-9d4b-d5d05b1f6e3f",
   "metadata": {},
   "outputs": [
    {
     "data": {
      "text/html": [
       "<table class=\"dataframe\">\n",
       "<caption>A tibble: 77 × 5</caption>\n",
       "<thead>\n",
       "\t<tr><th scope=col>.pred_class</th><th scope=col>age</th><th scope=col>trestbps</th><th scope=col>chol</th><th scope=col>restecg</th></tr>\n",
       "\t<tr><th scope=col>&lt;fct&gt;</th><th scope=col>&lt;dbl&gt;</th><th scope=col>&lt;dbl&gt;</th><th scope=col>&lt;dbl&gt;</th><th scope=col>&lt;fct&gt;</th></tr>\n",
       "</thead>\n",
       "<tbody>\n",
       "\t<tr><td>normal        </td><td>37</td><td>130</td><td>250</td><td>normal        </td></tr>\n",
       "\t<tr><td>lv hypertrophy</td><td>56</td><td>120</td><td>236</td><td>normal        </td></tr>\n",
       "\t<tr><td>normal        </td><td>53</td><td>140</td><td>203</td><td>lv hypertrophy</td></tr>\n",
       "\t<tr><td>⋮</td><td>⋮</td><td>⋮</td><td>⋮</td><td>⋮</td></tr>\n",
       "\t<tr><td>lv hypertrophy</td><td>45</td><td>110</td><td>264</td><td>normal        </td></tr>\n",
       "\t<tr><td>lv hypertrophy</td><td>57</td><td>130</td><td>131</td><td>normal        </td></tr>\n",
       "\t<tr><td>normal        </td><td>28</td><td>130</td><td>132</td><td>lv hypertrophy</td></tr>\n",
       "</tbody>\n",
       "</table>\n"
      ],
      "text/latex": [
       "A tibble: 77 × 5\n",
       "\\begin{tabular}{lllll}\n",
       " .pred\\_class & age & trestbps & chol & restecg\\\\\n",
       " <fct> & <dbl> & <dbl> & <dbl> & <fct>\\\\\n",
       "\\hline\n",
       "\t normal         & 37 & 130 & 250 & normal        \\\\\n",
       "\t lv hypertrophy & 56 & 120 & 236 & normal        \\\\\n",
       "\t normal         & 53 & 140 & 203 & lv hypertrophy\\\\\n",
       "\t ⋮ & ⋮ & ⋮ & ⋮ & ⋮\\\\\n",
       "\t lv hypertrophy & 45 & 110 & 264 & normal        \\\\\n",
       "\t lv hypertrophy & 57 & 130 & 131 & normal        \\\\\n",
       "\t normal         & 28 & 130 & 132 & lv hypertrophy\\\\\n",
       "\\end{tabular}\n"
      ],
      "text/markdown": [
       "\n",
       "A tibble: 77 × 5\n",
       "\n",
       "| .pred_class &lt;fct&gt; | age &lt;dbl&gt; | trestbps &lt;dbl&gt; | chol &lt;dbl&gt; | restecg &lt;fct&gt; |\n",
       "|---|---|---|---|---|\n",
       "| normal         | 37 | 130 | 250 | normal         |\n",
       "| lv hypertrophy | 56 | 120 | 236 | normal         |\n",
       "| normal         | 53 | 140 | 203 | lv hypertrophy |\n",
       "| ⋮ | ⋮ | ⋮ | ⋮ | ⋮ |\n",
       "| lv hypertrophy | 45 | 110 | 264 | normal         |\n",
       "| lv hypertrophy | 57 | 130 | 131 | normal         |\n",
       "| normal         | 28 | 130 | 132 | lv hypertrophy |\n",
       "\n"
      ],
      "text/plain": [
       "   .pred_class    age trestbps chol restecg       \n",
       "1  normal         37  130      250  normal        \n",
       "2  lv hypertrophy 56  120      236  normal        \n",
       "3  normal         53  140      203  lv hypertrophy\n",
       "⋮  ⋮              ⋮   ⋮        ⋮    ⋮             \n",
       "75 lv hypertrophy 45  110      264  normal        \n",
       "76 lv hypertrophy 57  130      131  normal        \n",
       "77 normal         28  130      132  lv hypertrophy"
      ]
     },
     "metadata": {},
     "output_type": "display_data"
    },
    {
     "data": {
      "text/html": [
       "<table class=\"dataframe\">\n",
       "<caption>A tibble: 2 × 3</caption>\n",
       "<thead>\n",
       "\t<tr><th scope=col>.metric</th><th scope=col>.estimator</th><th scope=col>.estimate</th></tr>\n",
       "\t<tr><th scope=col>&lt;chr&gt;</th><th scope=col>&lt;chr&gt;</th><th scope=col>&lt;dbl&gt;</th></tr>\n",
       "</thead>\n",
       "<tbody>\n",
       "\t<tr><td>accuracy</td><td>multiclass</td><td> 0.48051948</td></tr>\n",
       "\t<tr><td>kap     </td><td>multiclass</td><td>-0.02872411</td></tr>\n",
       "</tbody>\n",
       "</table>\n"
      ],
      "text/latex": [
       "A tibble: 2 × 3\n",
       "\\begin{tabular}{lll}\n",
       " .metric & .estimator & .estimate\\\\\n",
       " <chr> & <chr> & <dbl>\\\\\n",
       "\\hline\n",
       "\t accuracy & multiclass &  0.48051948\\\\\n",
       "\t kap      & multiclass & -0.02872411\\\\\n",
       "\\end{tabular}\n"
      ],
      "text/markdown": [
       "\n",
       "A tibble: 2 × 3\n",
       "\n",
       "| .metric &lt;chr&gt; | .estimator &lt;chr&gt; | .estimate &lt;dbl&gt; |\n",
       "|---|---|---|\n",
       "| accuracy | multiclass |  0.48051948 |\n",
       "| kap      | multiclass | -0.02872411 |\n",
       "\n"
      ],
      "text/plain": [
       "  .metric  .estimator .estimate  \n",
       "1 accuracy multiclass  0.48051948\n",
       "2 kap      multiclass -0.02872411"
      ]
     },
     "metadata": {},
     "output_type": "display_data"
    },
    {
     "data": {
      "text/plain": [
       "                  Truth\n",
       "Prediction         lv hypertrophy normal st-t abnormality\n",
       "  lv hypertrophy               16     18                0\n",
       "  normal                       21     21                1\n",
       "  st-t abnormality              0      0                0"
      ]
     },
     "metadata": {},
     "output_type": "display_data"
    }
   ],
   "source": [
    "heart_retrain_spec = nearest_neighbor(weight_func = \"rectangular\", neighbors = 5) |>\n",
    "    set_engine(\"kknn\") |>\n",
    "    set_mode(\"classification\")\n",
    "\n",
    "heart_fit = workflow() |>\n",
    "       add_recipe(heart_recipe) |>\n",
    "       add_model(heart_retrain_spec) |>\n",
    "       fit(data = heart_train)\n",
    "\n",
    "heart_predictions <- predict(heart_fit , heart_test) |>\n",
    "                    bind_cols(heart_test)\n",
    "heart_predictions\n",
    "\n",
    "heart_metrics <- heart_predictions |>\n",
    "         metrics(truth = restecg, estimate = .pred_class)\n",
    "heart_metrics\n",
    "\n",
    "heart_conf_mat <- heart_predictions |> \n",
    "       conf_mat(truth = restecg, estimate = .pred_class)\n",
    "heart_conf_mat"
   ]
  },
  {
   "cell_type": "code",
   "execution_count": null,
   "id": "4810b207-7fc0-4ec7-9372-3b0ef7246806",
   "metadata": {},
   "outputs": [],
   "source": []
  },
  {
   "cell_type": "markdown",
   "id": "e6a725f6-1dd5-4de8-b739-df2dc0b4658a",
   "metadata": {},
   "source": [
    "#### Then the final model using trestbps, chol to predict restecg by k-nn classification."
   ]
  },
  {
   "cell_type": "code",
   "execution_count": 35,
   "id": "e0d54ada-2087-40a1-8e33-6552c8debf3b",
   "metadata": {},
   "outputs": [
    {
     "name": "stderr",
     "output_type": "stream",
     "text": [
      "\u001b[33m!\u001b[39m \u001b[33mFold2: internal:\n",
      "  No observations were detected in `truth` for level(s): 'st-t abnormality'\n",
      "  Computation will proceed by ignoring those levels.\u001b[39m\n",
      "\n",
      "\u001b[33m!\u001b[39m \u001b[33mFold3: internal:\n",
      "  No observations were detected in `truth` for level(s): 'st-t abnormality'\n",
      "  Computation will proceed by ignoring those levels.\u001b[39m\n",
      "\n"
     ]
    },
    {
     "data": {
      "text/html": [
       "<table class=\"dataframe\">\n",
       "<caption>A tibble: 12 × 7</caption>\n",
       "<thead>\n",
       "\t<tr><th scope=col>neighbors</th><th scope=col>.metric</th><th scope=col>.estimator</th><th scope=col>mean</th><th scope=col>n</th><th scope=col>std_err</th><th scope=col>.config</th></tr>\n",
       "\t<tr><th scope=col>&lt;int&gt;</th><th scope=col>&lt;chr&gt;</th><th scope=col>&lt;chr&gt;</th><th scope=col>&lt;dbl&gt;</th><th scope=col>&lt;int&gt;</th><th scope=col>&lt;dbl&gt;</th><th scope=col>&lt;chr&gt;</th></tr>\n",
       "</thead>\n",
       "<tbody>\n",
       "\t<tr><td>2</td><td>accuracy</td><td>multiclass</td><td>0.5631796</td><td>5</td><td>0.03178283</td><td>Preprocessor1_Model01</td></tr>\n",
       "\t<tr><td>3</td><td>accuracy</td><td>multiclass</td><td>0.5456873</td><td>5</td><td>0.03793508</td><td>Preprocessor1_Model02</td></tr>\n",
       "\t<tr><td>5</td><td>accuracy</td><td>multiclass</td><td>0.5406500</td><td>5</td><td>0.04598067</td><td>Preprocessor1_Model03</td></tr>\n",
       "\t<tr><td>⋮</td><td>⋮</td><td>⋮</td><td>⋮</td><td>⋮</td><td>⋮</td><td>⋮</td></tr>\n",
       "\t<tr><td>12</td><td>accuracy</td><td>multiclass</td><td>0.5764207</td><td>5</td><td>0.03824907</td><td>Preprocessor1_Model10</td></tr>\n",
       "\t<tr><td>13</td><td>accuracy</td><td>multiclass</td><td>0.5718753</td><td>5</td><td>0.03712380</td><td>Preprocessor1_Model11</td></tr>\n",
       "\t<tr><td>14</td><td>accuracy</td><td>multiclass</td><td>0.5806675</td><td>5</td><td>0.03817487</td><td>Preprocessor1_Model12</td></tr>\n",
       "</tbody>\n",
       "</table>\n"
      ],
      "text/latex": [
       "A tibble: 12 × 7\n",
       "\\begin{tabular}{lllllll}\n",
       " neighbors & .metric & .estimator & mean & n & std\\_err & .config\\\\\n",
       " <int> & <chr> & <chr> & <dbl> & <int> & <dbl> & <chr>\\\\\n",
       "\\hline\n",
       "\t 2 & accuracy & multiclass & 0.5631796 & 5 & 0.03178283 & Preprocessor1\\_Model01\\\\\n",
       "\t 3 & accuracy & multiclass & 0.5456873 & 5 & 0.03793508 & Preprocessor1\\_Model02\\\\\n",
       "\t 5 & accuracy & multiclass & 0.5406500 & 5 & 0.04598067 & Preprocessor1\\_Model03\\\\\n",
       "\t ⋮ & ⋮ & ⋮ & ⋮ & ⋮ & ⋮ & ⋮\\\\\n",
       "\t 12 & accuracy & multiclass & 0.5764207 & 5 & 0.03824907 & Preprocessor1\\_Model10\\\\\n",
       "\t 13 & accuracy & multiclass & 0.5718753 & 5 & 0.03712380 & Preprocessor1\\_Model11\\\\\n",
       "\t 14 & accuracy & multiclass & 0.5806675 & 5 & 0.03817487 & Preprocessor1\\_Model12\\\\\n",
       "\\end{tabular}\n"
      ],
      "text/markdown": [
       "\n",
       "A tibble: 12 × 7\n",
       "\n",
       "| neighbors &lt;int&gt; | .metric &lt;chr&gt; | .estimator &lt;chr&gt; | mean &lt;dbl&gt; | n &lt;int&gt; | std_err &lt;dbl&gt; | .config &lt;chr&gt; |\n",
       "|---|---|---|---|---|---|---|\n",
       "| 2 | accuracy | multiclass | 0.5631796 | 5 | 0.03178283 | Preprocessor1_Model01 |\n",
       "| 3 | accuracy | multiclass | 0.5456873 | 5 | 0.03793508 | Preprocessor1_Model02 |\n",
       "| 5 | accuracy | multiclass | 0.5406500 | 5 | 0.04598067 | Preprocessor1_Model03 |\n",
       "| ⋮ | ⋮ | ⋮ | ⋮ | ⋮ | ⋮ | ⋮ |\n",
       "| 12 | accuracy | multiclass | 0.5764207 | 5 | 0.03824907 | Preprocessor1_Model10 |\n",
       "| 13 | accuracy | multiclass | 0.5718753 | 5 | 0.03712380 | Preprocessor1_Model11 |\n",
       "| 14 | accuracy | multiclass | 0.5806675 | 5 | 0.03817487 | Preprocessor1_Model12 |\n",
       "\n"
      ],
      "text/plain": [
       "   neighbors .metric  .estimator mean      n std_err    .config              \n",
       "1  2         accuracy multiclass 0.5631796 5 0.03178283 Preprocessor1_Model01\n",
       "2  3         accuracy multiclass 0.5456873 5 0.03793508 Preprocessor1_Model02\n",
       "3  5         accuracy multiclass 0.5406500 5 0.04598067 Preprocessor1_Model03\n",
       "⋮  ⋮         ⋮        ⋮          ⋮         ⋮ ⋮          ⋮                    \n",
       "10 12        accuracy multiclass 0.5764207 5 0.03824907 Preprocessor1_Model10\n",
       "11 13        accuracy multiclass 0.5718753 5 0.03712380 Preprocessor1_Model11\n",
       "12 14        accuracy multiclass 0.5806675 5 0.03817487 Preprocessor1_Model12"
      ]
     },
     "metadata": {},
     "output_type": "display_data"
    },
    {
     "data": {
      "image/png": "[encoded data removed]",
      "text/plain": [
       "plot without title"
      ]
     },
     "metadata": {
      "image/png": {
       "height": 420,
       "width": 420
      }
     },
     "output_type": "display_data"
    }
   ],
   "source": [
    "set.seed(2020)\n",
    "## 5-fold cross validation\n",
    "heart_recipe = recipe(restecg ~ trestbps + chol, data = heart_train) |>\n",
    "                step_center(all_predictors()) |>\n",
    "                step_scale(all_predictors())\n",
    "\n",
    "heart_spec = nearest_neighbor(weight_func = \"rectangular\", neighbors = tune()) |>\n",
    "    set_engine(\"kknn\") |>\n",
    "    set_mode(\"classification\")\n",
    "heart_vf <- vfold_cv(heart_train, v = 5, strata = restecg)\n",
    "\n",
    "heart_results = workflow() |>\n",
    "    add_recipe(heart_recipe) |>\n",
    "    add_model(heart_spec)|>\n",
    "    tune_grid(resamples = heart_vf, grid = 15) |>\n",
    "    collect_metrics()\n",
    "\n",
    "heart_accuracies <- heart_results |> \n",
    "       filter(.metric == \"accuracy\", .estimator == \"multiclass\")\n",
    "\n",
    "heart_accuracies\n",
    "\n",
    "heart_accuracy_plot <- ggplot(heart_accuracies, aes(x = neighbors, y = mean))+\n",
    "       geom_point() +\n",
    "       geom_line() +\n",
    "       labs(x = \"Neighbors\", y = \"Accuracy Estimate\") +\n",
    "       scale_x_continuous(breaks = seq(1, 16, by = 1)) +  # adjusting the x-axis\n",
    "       scale_y_continuous(limits = c(0.4, 1)) # adjusting the y-axis\n",
    "\n",
    "heart_accuracy_plot"
   ]
  },
  {
   "cell_type": "markdown",
   "id": "46b31260-b63c-40fb-b691-13c3b153722d",
   "metadata": {},
   "source": [
    "According to the plot above, we choose k = 11."
   ]
  },
  {
   "cell_type": "code",
   "execution_count": 37,
   "id": "75501ed3-8306-4db2-a6fb-9f229164f6c4",
   "metadata": {},
   "outputs": [
    {
     "data": {
      "text/html": [
       "<table class=\"dataframe\">\n",
       "<caption>A tibble: 77 × 5</caption>\n",
       "<thead>\n",
       "\t<tr><th scope=col>.pred_class</th><th scope=col>age</th><th scope=col>trestbps</th><th scope=col>chol</th><th scope=col>restecg</th></tr>\n",
       "\t<tr><th scope=col>&lt;fct&gt;</th><th scope=col>&lt;dbl&gt;</th><th scope=col>&lt;dbl&gt;</th><th scope=col>&lt;dbl&gt;</th><th scope=col>&lt;fct&gt;</th></tr>\n",
       "</thead>\n",
       "<tbody>\n",
       "\t<tr><td>lv hypertrophy</td><td>37</td><td>130</td><td>250</td><td>normal        </td></tr>\n",
       "\t<tr><td>normal        </td><td>56</td><td>120</td><td>236</td><td>normal        </td></tr>\n",
       "\t<tr><td>normal        </td><td>53</td><td>140</td><td>203</td><td>lv hypertrophy</td></tr>\n",
       "\t<tr><td>⋮</td><td>⋮</td><td>⋮</td><td>⋮</td><td>⋮</td></tr>\n",
       "\t<tr><td>lv hypertrophy</td><td>45</td><td>110</td><td>264</td><td>normal        </td></tr>\n",
       "\t<tr><td>normal        </td><td>57</td><td>130</td><td>131</td><td>normal        </td></tr>\n",
       "\t<tr><td>normal        </td><td>28</td><td>130</td><td>132</td><td>lv hypertrophy</td></tr>\n",
       "</tbody>\n",
       "</table>\n"
      ],
      "text/latex": [
       "A tibble: 77 × 5\n",
       "\\begin{tabular}{lllll}\n",
       " .pred\\_class & age & trestbps & chol & restecg\\\\\n",
       " <fct> & <dbl> & <dbl> & <dbl> & <fct>\\\\\n",
       "\\hline\n",
       "\t lv hypertrophy & 37 & 130 & 250 & normal        \\\\\n",
       "\t normal         & 56 & 120 & 236 & normal        \\\\\n",
       "\t normal         & 53 & 140 & 203 & lv hypertrophy\\\\\n",
       "\t ⋮ & ⋮ & ⋮ & ⋮ & ⋮\\\\\n",
       "\t lv hypertrophy & 45 & 110 & 264 & normal        \\\\\n",
       "\t normal         & 57 & 130 & 131 & normal        \\\\\n",
       "\t normal         & 28 & 130 & 132 & lv hypertrophy\\\\\n",
       "\\end{tabular}\n"
      ],
      "text/markdown": [
       "\n",
       "A tibble: 77 × 5\n",
       "\n",
       "| .pred_class &lt;fct&gt; | age &lt;dbl&gt; | trestbps &lt;dbl&gt; | chol &lt;dbl&gt; | restecg &lt;fct&gt; |\n",
       "|---|---|---|---|---|\n",
       "| lv hypertrophy | 37 | 130 | 250 | normal         |\n",
       "| normal         | 56 | 120 | 236 | normal         |\n",
       "| normal         | 53 | 140 | 203 | lv hypertrophy |\n",
       "| ⋮ | ⋮ | ⋮ | ⋮ | ⋮ |\n",
       "| lv hypertrophy | 45 | 110 | 264 | normal         |\n",
       "| normal         | 57 | 130 | 131 | normal         |\n",
       "| normal         | 28 | 130 | 132 | lv hypertrophy |\n",
       "\n"
      ],
      "text/plain": [
       "   .pred_class    age trestbps chol restecg       \n",
       "1  lv hypertrophy 37  130      250  normal        \n",
       "2  normal         56  120      236  normal        \n",
       "3  normal         53  140      203  lv hypertrophy\n",
       "⋮  ⋮              ⋮   ⋮        ⋮    ⋮             \n",
       "75 lv hypertrophy 45  110      264  normal        \n",
       "76 normal         57  130      131  normal        \n",
       "77 normal         28  130      132  lv hypertrophy"
      ]
     },
     "metadata": {},
     "output_type": "display_data"
    },
    {
     "data": {
      "text/html": [
       "<table class=\"dataframe\">\n",
       "<caption>A tibble: 2 × 3</caption>\n",
       "<thead>\n",
       "\t<tr><th scope=col>.metric</th><th scope=col>.estimator</th><th scope=col>.estimate</th></tr>\n",
       "\t<tr><th scope=col>&lt;chr&gt;</th><th scope=col>&lt;chr&gt;</th><th scope=col>&lt;dbl&gt;</th></tr>\n",
       "</thead>\n",
       "<tbody>\n",
       "\t<tr><td>accuracy</td><td>multiclass</td><td> 0.4935064935</td></tr>\n",
       "\t<tr><td>kap     </td><td>multiclass</td><td>-0.0003331113</td></tr>\n",
       "</tbody>\n",
       "</table>\n"
      ],
      "text/latex": [
       "A tibble: 2 × 3\n",
       "\\begin{tabular}{lll}\n",
       " .metric & .estimator & .estimate\\\\\n",
       " <chr> & <chr> & <dbl>\\\\\n",
       "\\hline\n",
       "\t accuracy & multiclass &  0.4935064935\\\\\n",
       "\t kap      & multiclass & -0.0003331113\\\\\n",
       "\\end{tabular}\n"
      ],
      "text/markdown": [
       "\n",
       "A tibble: 2 × 3\n",
       "\n",
       "| .metric &lt;chr&gt; | .estimator &lt;chr&gt; | .estimate &lt;dbl&gt; |\n",
       "|---|---|---|\n",
       "| accuracy | multiclass |  0.4935064935 |\n",
       "| kap      | multiclass | -0.0003331113 |\n",
       "\n"
      ],
      "text/plain": [
       "  .metric  .estimator .estimate    \n",
       "1 accuracy multiclass  0.4935064935\n",
       "2 kap      multiclass -0.0003331113"
      ]
     },
     "metadata": {},
     "output_type": "display_data"
    },
    {
     "data": {
      "text/plain": [
       "                  Truth\n",
       "Prediction         lv hypertrophy normal st-t abnormality\n",
       "  lv hypertrophy               18     19                1\n",
       "  normal                       19     20                0\n",
       "  st-t abnormality              0      0                0"
      ]
     },
     "metadata": {},
     "output_type": "display_data"
    }
   ],
   "source": [
    "heart_retrain_spec = nearest_neighbor(weight_func = \"rectangular\", neighbors = 11) |>\n",
    "    set_engine(\"kknn\") |>\n",
    "    set_mode(\"classification\")\n",
    "\n",
    "heart_fit = workflow() |>\n",
    "       add_recipe(heart_recipe) |>\n",
    "       add_model(heart_retrain_spec) |>\n",
    "       fit(data = heart_train)\n",
    "\n",
    "heart_predictions <- predict(heart_fit , heart_test) |>\n",
    "                    bind_cols(heart_test)\n",
    "heart_predictions\n",
    "\n",
    "heart_metrics <- heart_predictions |>\n",
    "         metrics(truth = restecg, estimate = .pred_class)\n",
    "heart_metrics\n",
    "\n",
    "heart_conf_mat <- heart_predictions |> \n",
    "       conf_mat(truth = restecg, estimate = .pred_class)\n",
    "heart_conf_mat"
   ]
  },
  {
   "cell_type": "markdown",
   "id": "97372c3d-a618-4a19-9561-d7c6f83c4409",
   "metadata": {},
   "source": [
    "#### Compare the accuracy rate of the four models (0.4285714, 0.5584416, 0.48051948, 0.4935064935), we found the model of using age, trestbps to predict restecg has the highest accuracy. We think this model is the best model to predict restecg."
   ]
  },
  {
   "cell_type": "markdown",
   "id": "5a60d31e-840c-461e-99d3-0af8dbab48e1",
   "metadata": {},
   "source": [
    "### Discussion:\n",
    "\n",
    "We found that Age and trestbps are two factors which are the most associated with heart disease."
   ]
  },
  {
   "cell_type": "code",
   "execution_count": null,
   "id": "ef2c501f-302d-4202-88b8-57c3aa08b6aa",
   "metadata": {},
   "outputs": [],
   "source": []
  }
 ],
 "metadata": {
  "kernelspec": {
   "display_name": "R",
   "language": "R",
   "name": "ir"
  },
  "language_info": {
   "codemirror_mode": "r",
   "file_extension": ".r",
   "mimetype": "text/x-r-source",
   "name": "R",
   "pygments_lexer": "r",
   "version": "4.1.3"
  }
 },
 "nbformat": 4,
 "nbformat_minor": 5
}
