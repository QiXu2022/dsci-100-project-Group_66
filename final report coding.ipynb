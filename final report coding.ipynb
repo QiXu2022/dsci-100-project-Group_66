{
 "cells": [
  {
   "cell_type": "code",
   "execution_count": null,
   "id": "9d0a6be9-ffb9-4833-b5ce-69c4f667c332",
   "metadata": {},
   "outputs": [
    {
     "name": "stderr",
     "output_type": "stream",
     "text": [
      "── \u001b[1mAttaching packages\u001b[22m ─────────────────────────────────────── tidyverse 1.3.1 ──\n",
      "\n",
      "\u001b[32m✔\u001b[39m \u001b[34mggplot2\u001b[39m 3.3.6     \u001b[32m✔\u001b[39m \u001b[34mpurrr  \u001b[39m 0.3.4\n",
      "\u001b[32m✔\u001b[39m \u001b[34mtibble \u001b[39m 3.1.7     \u001b[32m✔\u001b[39m \u001b[34mdplyr  \u001b[39m 1.0.9\n",
      "\u001b[32m✔\u001b[39m \u001b[34mtidyr  \u001b[39m 1.2.0     \u001b[32m✔\u001b[39m \u001b[34mstringr\u001b[39m 1.4.0\n",
      "\u001b[32m✔\u001b[39m \u001b[34mreadr  \u001b[39m 2.1.2     \u001b[32m✔\u001b[39m \u001b[34mforcats\u001b[39m 0.5.1\n",
      "\n",
      "── \u001b[1mConflicts\u001b[22m ────────────────────────────────────────── tidyverse_conflicts() ──\n",
      "\u001b[31m✖\u001b[39m \u001b[34mdplyr\u001b[39m::\u001b[32mfilter()\u001b[39m masks \u001b[34mstats\u001b[39m::filter()\n",
      "\u001b[31m✖\u001b[39m \u001b[34mdplyr\u001b[39m::\u001b[32mlag()\u001b[39m    masks \u001b[34mstats\u001b[39m::lag()\n",
      "\n"
     ]
    }
   ],
   "source": [
    "library(tidyverse)\n",
    "library(repr)\n",
    "library(tidymodels)"
   ]
  },
  {
   "cell_type": "code",
   "execution_count": null,
   "id": "f398699e-942d-4895-aadb-666f61e98a0b",
   "metadata": {},
   "outputs": [],
   "source": [
    "set.seed(209)\n",
    "#reading the dataset from the URL\n",
    "heart_disease_data <- read_csv(\"https://raw.githubusercontent.com/QiXu2022/dsci-100-project-Group_66/main/heart_disease_uci.csv\")\n",
    "heart_disease_data <- mutate(heart_disease_data, restecg = as_factor(restecg))"
   ]
  },
  {
   "cell_type": "code",
   "execution_count": null,
   "id": "92424caa-b353-49e9-ab08-af041ac7a6cc",
   "metadata": {},
   "outputs": [],
   "source": [
    "#tidying the data\n",
    "tidy_data<-heart_disease_data |>\n",
    "    filter(dataset==\"Cleveland\") |>\n",
    "    select(age, trestbps, chol, restecg) \n",
    "tidy_data"
   ]
  },
  {
   "cell_type": "code",
   "execution_count": null,
   "id": "5bf39fe6-33f5-4020-bd2f-95f0ba7451b7",
   "metadata": {},
   "outputs": [],
   "source": [
    "heart_split<- initial_split(tidy_data, prop=0.75, strata=restecg)\n",
    "heart_train<- training(heart_split)\n",
    "heart_test<-testing(heart_split)"
   ]
  },
  {
   "cell_type": "markdown",
   "id": "b1bf02e2-17f9-45fd-8d20-e1048abb31e0",
   "metadata": {},
   "source": [
    "#### Firstly, we build model of using age, trestbps and chol to predict restecg by k-nn classification.\n"
   ]
  },
  {
   "cell_type": "code",
   "execution_count": null,
   "id": "5dea6147-db82-44da-9aa3-f3522de439da",
   "metadata": {},
   "outputs": [],
   "source": [
    "set.seed(2020)\n",
    "## 5-fold cross validation\n",
    "heart_recipe_all = recipe(restecg ~ ., data = heart_train) |>\n",
    "                step_center(all_predictors()) |>\n",
    "                step_scale(all_predictors())\n",
    "heart_spec = nearest_neighbor(weight_func = \"rectangular\", neighbors = tune()) |>\n",
    "    set_engine(\"kknn\") |>\n",
    "    set_mode(\"classification\")\n",
    "heart_vf <- vfold_cv(heart_train, v = 5, strata = restecg)\n",
    "\n",
    "heart_results_all = workflow() |>\n",
    "    add_recipe(heart_recipe_all) |>\n",
    "    add_model(heart_spec)|>\n",
    "    tune_grid(resamples = heart_vf, grid = 15) |>\n",
    "    collect_metrics()\n",
    "\n",
    "heart_accuracies_all <- heart_results_all |> \n",
    "       filter(.metric == \"accuracy\", .estimator == \"multiclass\")\n",
    "\n",
    "heart_accuracies_all\n",
    "\n",
    "heart_accuracy_plot_all <- ggplot(heart_accuracies_all, aes(x = neighbors, y = mean))+\n",
    "       geom_point() +\n",
    "       geom_line() +\n",
    "       labs(x = \"Neighbors\", y = \"Accuracy Estimate\") +\n",
    "       scale_x_continuous(breaks = seq(1, 16, by = 1)) +  # adjusting the x-axis\n",
    "       scale_y_continuous(limits = c(0.4, 1)) # adjusting the y-axis\n",
    "\n",
    "heart_accuracy_plot_all"
   ]
  },
  {
   "cell_type": "markdown",
   "id": "c80f5a47-58cd-40ac-bbab-39de407ec578",
   "metadata": {},
   "source": [
    "According to the plot above, we choose k = 14."
   ]
  },
  {
   "cell_type": "code",
   "execution_count": 1,
   "id": "3201b4a4-60ae-483e-a271-179ddf554931",
   "metadata": {},
   "outputs": [
    {
     "ename": "ERROR",
     "evalue": "Error in set_mode(set_engine(nearest_neighbor(weight_func = \"rectangular\", : could not find function \"set_mode\"\n",
     "output_type": "error",
     "traceback": [
      "Error in set_mode(set_engine(nearest_neighbor(weight_func = \"rectangular\", : could not find function \"set_mode\"\nTraceback:\n"
     ]
    }
   ],
   "source": [
    "heart_retrain_spec_all = nearest_neighbor(weight_func = \"rectangular\", neighbors = 14) |>\n",
    "    set_engine(\"kknn\") |>\n",
    "    set_mode(\"classification\")\n",
    "\n",
    "heart_fit_all = workflow() |>\n",
    "       add_recipe(heart_recipe_all) |>\n",
    "       add_model(heart_retrain_spec_all) |>\n",
    "       fit(data = heart_train)\n",
    "\n",
    "heart_predictions_all <- predict(heart_fit_all , heart_test) |>\n",
    "                    bind_cols(heart_test)\n",
    "\n",
    "heart_predictions_all\n",
    "\n",
    "heart_metrics_all <- heart_predictions_all |>\n",
    "         metrics(truth = restecg, estimate = .pred_class)\n",
    "heart_metrics_all\n",
    "\n",
    "heart_conf_mat_all <- heart_predictions_all |> \n",
    "       conf_mat(truth = restecg, estimate = .pred_class)\n",
    "heart_conf_mat_all\n",
    "\n",
    "\n",
    "\n"
   ]
  },
  {
   "cell_type": "markdown",
   "id": "08c638da-35aa-448f-afd8-1580eec7847c",
   "metadata": {},
   "source": [
    "#### let's do the second model using age, trestbps to predict restecg by k-nn classification."
   ]
  },
  {
   "cell_type": "code",
   "execution_count": null,
   "id": "8fef3dc3-8433-4d47-abe8-8e7ad9fa1a43",
   "metadata": {},
   "outputs": [],
   "source": [
    "set.seed(2020)\n",
    "## 5-fold cross validation\n",
    "heart_recipe_at = recipe(restecg ~ age + trestbps, data = heart_train) |>\n",
    "                step_center(all_predictors()) |>\n",
    "                step_scale(all_predictors())\n",
    "\n",
    "heart_results_at = workflow() |>\n",
    "    add_recipe(heart_recipe_at) |>\n",
    "    add_model(heart_spec)|>\n",
    "    tune_grid(resamples = heart_vf, grid = 15) |>\n",
    "    collect_metrics()\n",
    "\n",
    "heart_accuracies_at <- heart_results_at |> \n",
    "       filter(.metric == \"accuracy\", .estimator == \"multiclass\")\n",
    "\n",
    "heart_accuracies_at\n",
    "\n",
    "heart_accuracy_plot_at <- ggplot(heart_accuracies_at, aes(x = neighbors, y = mean))+\n",
    "       geom_point() +\n",
    "       geom_line() +\n",
    "       labs(x = \"Neighbors\", y = \"Accuracy Estimate\") +\n",
    "       scale_x_continuous(breaks = seq(1, 16, by = 1)) +  # adjusting the x-axis\n",
    "       scale_y_continuous(limits = c(0.4, 1)) # adjusting the y-axis\n",
    "\n",
    "heart_accuracy_plot_at"
   ]
  },
  {
   "cell_type": "markdown",
   "id": "a46ac967-a56a-46c1-bfbe-3b6330cf347e",
   "metadata": {},
   "source": [
    "According to the plot above, we choose k = 9"
   ]
  },
  {
   "cell_type": "code",
   "execution_count": null,
   "id": "3221468f-5579-44ef-91ee-794d39342bd2",
   "metadata": {},
   "outputs": [],
   "source": [
    "heart_retrain_spec_at = nearest_neighbor(weight_func = \"rectangular\", neighbors = 9) |>\n",
    "    set_engine(\"kknn\") |>\n",
    "    set_mode(\"classification\")\n",
    "\n",
    "heart_fit_at = workflow() |>\n",
    "       add_recipe(heart_recipe_at) |>\n",
    "       add_model(heart_retrain_spec_at) |>\n",
    "       fit(data = heart_train)\n",
    "\n",
    "heart_predictions_at <- predict(heart_fit_at , heart_test) |>\n",
    "                    bind_cols(heart_test)\n",
    "heart_predictions_at\n",
    "\n",
    "heart_metrics_at <- heart_predictions_at |>\n",
    "         metrics(truth = restecg, estimate = .pred_class)\n",
    "heart_metrics_at\n",
    "\n",
    "heart_conf_mat_at <- heart_predictions_at |> \n",
    "       conf_mat(truth = restecg, estimate = .pred_class)\n",
    "heart_conf_mat_at\n"
   ]
  },
  {
   "cell_type": "code",
   "execution_count": null,
   "id": "1597cff8-bb3a-413a-9869-09b8f1e3eb03",
   "metadata": {},
   "outputs": [],
   "source": []
  },
  {
   "cell_type": "code",
   "execution_count": null,
   "id": "37bcd306-a58b-49e5-a1d8-369118a52cdc",
   "metadata": {},
   "outputs": [],
   "source": []
  },
  {
   "cell_type": "markdown",
   "id": "0670540f-0675-470a-9653-3adfda99b14a",
   "metadata": {},
   "source": [
    "#### let's do the third model using age, chol to predict restecg by k-nn classification."
   ]
  },
  {
   "cell_type": "code",
   "execution_count": null,
   "id": "e5f063a1-6392-4928-9976-416b911b9da8",
   "metadata": {},
   "outputs": [],
   "source": [
    "set.seed(2020)\n",
    "## 5-fold cross validation\n",
    "heart_recipe_ac = recipe(restecg ~ age + chol, data = heart_train) |>\n",
    "                step_center(all_predictors()) |>\n",
    "                step_scale(all_predictors())\n",
    "\n",
    "heart_results_ac = workflow() |>\n",
    "    add_recipe(heart_recipe_ac) |>\n",
    "    add_model(heart_spec)|>\n",
    "    tune_grid(resamples = heart_vf, grid = 15) |>\n",
    "    collect_metrics()\n",
    "\n",
    "heart_accuracies_ac <- heart_results_ac |> \n",
    "       filter(.metric == \"accuracy\", .estimator == \"multiclass\")\n",
    "\n",
    "heart_accuracies_ac\n",
    "\n",
    "heart_accuracy_plot_ac <- ggplot(heart_accuracies_ac, aes(x = neighbors, y = mean))+\n",
    "       geom_point() +\n",
    "       geom_line() +\n",
    "       labs(x = \"Neighbors\", y = \"Accuracy Estimate\") +\n",
    "       scale_x_continuous(breaks = seq(1, 16, by = 1)) +  # adjusting the x-axis\n",
    "       scale_y_continuous(limits = c(0.4, 1)) # adjusting the y-axis\n",
    "\n",
    "heart_accuracy_plot_ac"
   ]
  },
  {
   "cell_type": "markdown",
   "id": "2f4faed0-2596-4e08-956e-d23f91bfb111",
   "metadata": {},
   "source": [
    "According to the plot above, we choose k = 5."
   ]
  },
  {
   "cell_type": "code",
   "execution_count": 2,
   "id": "b8fab577-316e-4406-9d4b-d5d05b1f6e3f",
   "metadata": {},
   "outputs": [
    {
     "ename": "ERROR",
     "evalue": "Error in set_mode(set_engine(nearest_neighbor(weight_func = \"rectangular\", : could not find function \"set_mode\"\n",
     "output_type": "error",
     "traceback": [
      "Error in set_mode(set_engine(nearest_neighbor(weight_func = \"rectangular\", : could not find function \"set_mode\"\nTraceback:\n"
     ]
    }
   ],
   "source": [
    "heart_retrain_spec_ac = nearest_neighbor(weight_func = \"rectangular\", neighbors = 5) |>\n",
    "    set_engine(\"kknn\") |>\n",
    "    set_mode(\"classification\")\n",
    "\n",
    "heart_fit_ac = workflow() |>\n",
    "       add_recipe(heart_recipe_ac) |>\n",
    "       add_model(heart_retrain_spec_ac) |>\n",
    "       fit(data = heart_train)\n",
    "\n",
    "heart_predictions_ac <- predict(heart_fit_ac , heart_test) |>\n",
    "                    bind_cols(heart_test)\n",
    "heart_predictions_ac\n",
    "\n",
    "heart_metrics_ac <- heart_predictions_ac |>\n",
    "         metrics(truth = restecg, estimate = .pred_class)\n",
    "heart_metrics_ac\n",
    "\n",
    "heart_conf_mat_ac <- heart_predictions_ac |> \n",
    "       conf_mat(truth = restecg, estimate = .pred_class)\n",
    "heart_conf_mat_ac"
   ]
  },
  {
   "cell_type": "code",
   "execution_count": null,
   "id": "4810b207-7fc0-4ec7-9372-3b0ef7246806",
   "metadata": {},
   "outputs": [],
   "source": []
  },
  {
   "cell_type": "markdown",
   "id": "e6a725f6-1dd5-4de8-b739-df2dc0b4658a",
   "metadata": {},
   "source": [
    "#### Then the final model using trestbps, chol to predict restecg by k-nn classification."
   ]
  },
  {
   "cell_type": "code",
   "execution_count": null,
   "id": "e0d54ada-2087-40a1-8e33-6552c8debf3b",
   "metadata": {},
   "outputs": [],
   "source": [
    "set.seed(2020)\n",
    "## 5-fold cross validation\n",
    "heart_recipe_tc = recipe(restecg ~ trestbps + chol, data = heart_train) |>\n",
    "                step_center(all_predictors()) |>\n",
    "                step_scale(all_predictors())\n",
    "\n",
    "heart_results_tc = workflow() |>\n",
    "    add_recipe(heart_recipe_tc) |>\n",
    "    add_model(heart_spec)|>\n",
    "    tune_grid(resamples = heart_vf, grid = 15) |>\n",
    "    collect_metrics()\n",
    "\n",
    "heart_accuracies_tc <- heart_results_tc |> \n",
    "       filter(.metric == \"accuracy\", .estimator == \"multiclass\")\n",
    "\n",
    "heart_accuracies_tc\n",
    "\n",
    "heart_accuracy_plot_tc <- ggplot(heart_accuracies_tc, aes(x = neighbors, y = mean))+\n",
    "       geom_point() +\n",
    "       geom_line() +\n",
    "       labs(x = \"Neighbors\", y = \"Accuracy Estimate\") +\n",
    "       scale_x_continuous(breaks = seq(1, 16, by = 1)) +  # adjusting the x-axis\n",
    "       scale_y_continuous(limits = c(0.4, 1)) # adjusting the y-axis\n",
    "\n",
    "heart_accuracy_plot_tc"
   ]
  },
  {
   "cell_type": "markdown",
   "id": "46b31260-b63c-40fb-b691-13c3b153722d",
   "metadata": {},
   "source": [
    "According to the plot above, we choose k = 11."
   ]
  },
  {
   "cell_type": "code",
   "execution_count": null,
   "id": "75501ed3-8306-4db2-a6fb-9f229164f6c4",
   "metadata": {},
   "outputs": [],
   "source": [
    "heart_retrain_spec_tc = nearest_neighbor(weight_func = \"rectangular\", neighbors = 11) |>\n",
    "    set_engine(\"kknn\") |>\n",
    "    set_mode(\"classification\")\n",
    "\n",
    "heart_fit_tc = workflow() |>\n",
    "       add_recipe(heart_recipe_tc) |>\n",
    "       add_model(heart_retrain_spec_tc) |>\n",
    "       fit(data = heart_train)\n",
    "\n",
    "heart_predictions_tc <- predict(heart_fit_tc , heart_test) |>\n",
    "                    bind_cols(heart_test)\n",
    "heart_predictions_tc\n",
    "\n",
    "heart_metrics_tc <- heart_predictions_tc |>\n",
    "         metrics(truth = restecg, estimate = .pred_class)\n",
    "heart_metrics_tc\n",
    "\n",
    "heart_conf_mat_tc <- heart_predictions_tc |> \n",
    "       conf_mat(truth = restecg, estimate = .pred_class)\n",
    "heart_conf_mat_tc"
   ]
  },
  {
   "cell_type": "markdown",
   "id": "97372c3d-a618-4a19-9561-d7c6f83c4409",
   "metadata": {},
   "source": [
    "#### Compare the accuracy rate of the four models (0.4285714, 0.5584416, 0.48051948, 0.4935064935), we found the model of using age, trestbps to predict restecg has the highest accuracy. We think this model is the best model to predict restecg."
   ]
  },
  {
   "cell_type": "markdown",
   "id": "5a60d31e-840c-461e-99d3-0af8dbab48e1",
   "metadata": {},
   "source": [
    "### Discussion:\n",
    "\n",
    "We found that Age and trestbps are two factors which are the most associated with heart disease."
   ]
  },
  {
   "cell_type": "code",
   "execution_count": null,
   "id": "ef2c501f-302d-4202-88b8-57c3aa08b6aa",
   "metadata": {},
   "outputs": [],
   "source": []
  }
 ],
 "metadata": {
  "kernelspec": {
   "display_name": "R",
   "language": "R",
   "name": "ir"
  },
  "language_info": {
   "codemirror_mode": "r",
   "file_extension": ".r",
   "mimetype": "text/x-r-source",
   "name": "R",
   "pygments_lexer": "r",
   "version": "4.1.3"
  }
 },
 "nbformat": 4,
 "nbformat_minor": 5
}
